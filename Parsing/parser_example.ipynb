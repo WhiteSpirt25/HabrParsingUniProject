{
 "cells": [
  {
   "cell_type": "markdown",
   "metadata": {},
   "source": [
    "# Импортирую мой класс"
   ]
  },
  {
   "cell_type": "code",
   "execution_count": 2,
   "metadata": {},
   "outputs": [],
   "source": [
    "from habrparser import HabrParser\n",
    "import pandas as pd"
   ]
  },
  {
   "cell_type": "markdown",
   "metadata": {},
   "source": [
    "# Запускаю парсер"
   ]
  },
  {
   "cell_type": "markdown",
   "metadata": {},
   "source": [
    "Создаю парсер, а также запускаю с изменёнными параметрами и сразу сохраняю результаты на диск."
   ]
  },
  {
   "cell_type": "code",
   "execution_count": 13,
   "metadata": {},
   "outputs": [],
   "source": [
    "prs = HabrParser()"
   ]
  },
  {
   "cell_type": "code",
   "execution_count": 14,
   "metadata": {},
   "outputs": [
    {
     "name": "stderr",
     "output_type": "stream",
     "text": [
      "  0%|                                                                                           | 0/10 [00:00<?, ?it/s]C:\\JupyterProjects\\InfoSearch\\Parsing\\habrparser.py:53: GuessedAtParserWarning: No parser was explicitly specified, so I'm using the best available HTML parser for this system (\"lxml\"). This usually isn't a problem, but if you run this code on another system, or in a different virtual environment, it may use a different parser and behave differently.\n",
      "\n",
      "The code that caused this warning is on line 53 of the file C:\\JupyterProjects\\InfoSearch\\Parsing\\habrparser.py. To get rid of this warning, pass the additional argument 'features=\"lxml\"' to the BeautifulSoup constructor.\n",
      "\n",
      "  soup = BeautifulSoup(req.text)\n",
      "12it [00:18,  1.55s/it]                                                                                                "
     ]
    },
    {
     "name": "stdout",
     "output_type": "stream",
     "text": [
      "\n",
      "        Finished!\n",
      "        Total pages: 12\n",
      "        Starting index: 286674\n",
      "        Final index: 286629\n",
      "        Starting time : 23/04/21--13:31:05\n",
      "        Ending time: 23/04/21--13:31:24\n"
     ]
    }
   ],
   "source": [
    "prs.multi_run(\n",
    "    number_of_pages=10, starting_idx=286674, num_of_processes=15, time_between=0.3\n",
    ")\n",
    "prs.save()"
   ]
  },
  {
   "cell_type": "markdown",
   "metadata": {},
   "source": [
    "# Дополнительно"
   ]
  },
  {
   "cell_type": "markdown",
   "metadata": {},
   "source": [
    "### Так как парсил частями, то написал маленькую функцию для объединения pkl файлов в один."
   ]
  },
  {
   "cell_type": "code",
   "execution_count": 31,
   "metadata": {},
   "outputs": [],
   "source": [
    "import glob\n",
    "\n",
    "\n",
    "def pickle_merge(file_path=\"data/\", name=\"data/merged.pkl\"):\n",
    "    files = glob.glob(file_path + \"*.pkl\")\n",
    "    df = pd.concat([pd.read_pickle(f) for f in files])\n",
    "    df.to_pickle(name)"
   ]
  },
  {
   "cell_type": "markdown",
   "metadata": {},
   "source": [
    "### Проверка суммарного размера"
   ]
  },
  {
   "cell_type": "code",
   "execution_count": 3,
   "metadata": {},
   "outputs": [],
   "source": [
    "df = pd.read_pickle(\"data/habr100.pkl\")"
   ]
  },
  {
   "cell_type": "code",
   "execution_count": 4,
   "metadata": {},
   "outputs": [
    {
     "data": {
      "text/html": [
       "<div>\n",
       "<style scoped>\n",
       "    .dataframe tbody tr th:only-of-type {\n",
       "        vertical-align: middle;\n",
       "    }\n",
       "\n",
       "    .dataframe tbody tr th {\n",
       "        vertical-align: top;\n",
       "    }\n",
       "\n",
       "    .dataframe thead th {\n",
       "        text-align: right;\n",
       "    }\n",
       "</style>\n",
       "<table border=\"1\" class=\"dataframe\">\n",
       "  <thead>\n",
       "    <tr style=\"text-align: right;\">\n",
       "      <th></th>\n",
       "      <th>post_idx</th>\n",
       "      <th>author</th>\n",
       "      <th>nickname</th>\n",
       "      <th>author_title</th>\n",
       "      <th>author_karma</th>\n",
       "      <th>author_rating</th>\n",
       "      <th>title</th>\n",
       "      <th>date</th>\n",
       "      <th>hubs</th>\n",
       "      <th>tags</th>\n",
       "      <th>post_rating</th>\n",
       "      <th>times_saved</th>\n",
       "      <th>views</th>\n",
       "      <th>comment_count</th>\n",
       "      <th>raw_post_text</th>\n",
       "      <th>clean_text</th>\n",
       "    </tr>\n",
       "  </thead>\n",
       "  <tbody>\n",
       "    <tr>\n",
       "      <th>0</th>\n",
       "      <td>373265</td>\n",
       "      <td>Анастасия Краснянская</td>\n",
       "      <td>krasandm</td>\n",
       "      <td>Пользователь</td>\n",
       "      <td>40.2</td>\n",
       "      <td>0.0</td>\n",
       "      <td>Как открытые офисы влияют на работу высокоэффе...</td>\n",
       "      <td>2017-03-16 16:26:00</td>\n",
       "      <td>[Офисы IT-компаний, IT-компании]</td>\n",
       "      <td>[высокоэффективные сотрудники, open space]</td>\n",
       "      <td>27.0</td>\n",
       "      <td>59.0</td>\n",
       "      <td>42600.0</td>\n",
       "      <td>137.0</td>\n",
       "      <td>\\n\\r\\nПредставьте себе работу в открытом офисе...</td>\n",
       "      <td>Представьте себе работу в открытом офисе В ...</td>\n",
       "    </tr>\n",
       "    <tr>\n",
       "      <th>1</th>\n",
       "      <td>373263</td>\n",
       "      <td>None</td>\n",
       "      <td>gumanitarii</td>\n",
       "      <td>Пользователь</td>\n",
       "      <td>6.5</td>\n",
       "      <td>0.0</td>\n",
       "      <td>Mpow Thor: проводные беспроводные наушники на ...</td>\n",
       "      <td>2017-03-16 11:23:00</td>\n",
       "      <td>[Блог компании Medgadgets, Гаджеты]</td>\n",
       "      <td>[Mpow Thor]</td>\n",
       "      <td>4.0</td>\n",
       "      <td>9.0</td>\n",
       "      <td>9200.0</td>\n",
       "      <td>10.0</td>\n",
       "      <td>Mpow Thor — вроде бы обычная гарнитура, сделан...</td>\n",
       "      <td>Mpow Thor — вроде бы обычная гарнитура сделанн...</td>\n",
       "    </tr>\n",
       "    <tr>\n",
       "      <th>2</th>\n",
       "      <td>373261</td>\n",
       "      <td>None</td>\n",
       "      <td>AntoBro</td>\n",
       "      <td>Пользователь</td>\n",
       "      <td>16.7</td>\n",
       "      <td>0.0</td>\n",
       "      <td>Проект «Адам»-«Man Very High»? Миссия не выпол...</td>\n",
       "      <td>2017-03-15 15:12:00</td>\n",
       "      <td>[Профессиональная литература, Научно-популярно...</td>\n",
       "      <td>[Гагарин, НАСА, первый человек в космосе, день...</td>\n",
       "      <td>14.0</td>\n",
       "      <td>26.0</td>\n",
       "      <td>16600.0</td>\n",
       "      <td>46.0</td>\n",
       "      <td>\\n\\nКосмос — удивительное место, полное загад...</td>\n",
       "      <td>Космос — удивительное место полное загадок ...</td>\n",
       "    </tr>\n",
       "    <tr>\n",
       "      <th>3</th>\n",
       "      <td>373255</td>\n",
       "      <td>None</td>\n",
       "      <td>randall</td>\n",
       "      <td>Пользователь</td>\n",
       "      <td>94.2</td>\n",
       "      <td>0.0</td>\n",
       "      <td>Как затруднить идентификацию, обмануть видеоан...</td>\n",
       "      <td>2017-03-14 12:35:00</td>\n",
       "      <td>[Блог компании Ivideon, Дизайн, Киберпанк, Вид...</td>\n",
       "      <td>[видеонаблюдение, видеоаналитика, распознавани...</td>\n",
       "      <td>27.0</td>\n",
       "      <td>101.0</td>\n",
       "      <td>75500.0</td>\n",
       "      <td>78.0</td>\n",
       "      <td>\\nЭтот человек, которого мы будем называть Фре...</td>\n",
       "      <td>Этот человек которого мы будем называть Фред ...</td>\n",
       "    </tr>\n",
       "    <tr>\n",
       "      <th>4</th>\n",
       "      <td>373253</td>\n",
       "      <td>Матвеев Сергей</td>\n",
       "      <td>Feryo</td>\n",
       "      <td>Пользователь</td>\n",
       "      <td>NaN</td>\n",
       "      <td>NaN</td>\n",
       "      <td>Неокоммунизм. Теоретическое обоснование</td>\n",
       "      <td>2017-03-14 08:30:00</td>\n",
       "      <td>[Будущее здесь]</td>\n",
       "      <td>[неокоммунизм, коммунизм, общество будущего]</td>\n",
       "      <td>1.0</td>\n",
       "      <td>49.0</td>\n",
       "      <td>14100.0</td>\n",
       "      <td>500.0</td>\n",
       "      <td>Существующий капитализм — это не оптимальная ф...</td>\n",
       "      <td>Существующий капитализм — это не оптимальная ф...</td>\n",
       "    </tr>\n",
       "  </tbody>\n",
       "</table>\n",
       "</div>"
      ],
      "text/plain": [
       "   post_idx                 author     nickname  author_title  author_karma  \\\n",
       "0    373265  Анастасия Краснянская     krasandm  Пользователь          40.2   \n",
       "1    373263                   None  gumanitarii  Пользователь           6.5   \n",
       "2    373261                   None      AntoBro  Пользователь          16.7   \n",
       "3    373255                   None      randall  Пользователь          94.2   \n",
       "4    373253         Матвеев Сергей        Feryo  Пользователь           NaN   \n",
       "\n",
       "   author_rating                                              title  \\\n",
       "0            0.0  Как открытые офисы влияют на работу высокоэффе...   \n",
       "1            0.0  Mpow Thor: проводные беспроводные наушники на ...   \n",
       "2            0.0  Проект «Адам»-«Man Very High»? Миссия не выпол...   \n",
       "3            0.0  Как затруднить идентификацию, обмануть видеоан...   \n",
       "4            NaN            Неокоммунизм. Теоретическое обоснование   \n",
       "\n",
       "                 date                                               hubs  \\\n",
       "0 2017-03-16 16:26:00                   [Офисы IT-компаний, IT-компании]   \n",
       "1 2017-03-16 11:23:00                [Блог компании Medgadgets, Гаджеты]   \n",
       "2 2017-03-15 15:12:00  [Профессиональная литература, Научно-популярно...   \n",
       "3 2017-03-14 12:35:00  [Блог компании Ivideon, Дизайн, Киберпанк, Вид...   \n",
       "4 2017-03-14 08:30:00                                    [Будущее здесь]   \n",
       "\n",
       "                                                tags  post_rating  \\\n",
       "0         [высокоэффективные сотрудники, open space]         27.0   \n",
       "1                                        [Mpow Thor]          4.0   \n",
       "2  [Гагарин, НАСА, первый человек в космосе, день...         14.0   \n",
       "3  [видеонаблюдение, видеоаналитика, распознавани...         27.0   \n",
       "4       [неокоммунизм, коммунизм, общество будущего]          1.0   \n",
       "\n",
       "   times_saved    views  comment_count  \\\n",
       "0         59.0  42600.0          137.0   \n",
       "1          9.0   9200.0           10.0   \n",
       "2         26.0  16600.0           46.0   \n",
       "3        101.0  75500.0           78.0   \n",
       "4         49.0  14100.0          500.0   \n",
       "\n",
       "                                       raw_post_text  \\\n",
       "0  \\n\\r\\nПредставьте себе работу в открытом офисе...   \n",
       "1  Mpow Thor — вроде бы обычная гарнитура, сделан...   \n",
       "2   \\n\\nКосмос — удивительное место, полное загад...   \n",
       "3  \\nЭтот человек, которого мы будем называть Фре...   \n",
       "4  Существующий капитализм — это не оптимальная ф...   \n",
       "\n",
       "                                          clean_text  \n",
       "0     Представьте себе работу в открытом офисе В ...  \n",
       "1  Mpow Thor — вроде бы обычная гарнитура сделанн...  \n",
       "2     Космос — удивительное место полное загадок ...  \n",
       "3   Этот человек которого мы будем называть Фред ...  \n",
       "4  Существующий капитализм — это не оптимальная ф...  "
      ]
     },
     "execution_count": 4,
     "metadata": {},
     "output_type": "execute_result"
    }
   ],
   "source": [
    "df.head()"
   ]
  },
  {
   "cell_type": "code",
   "execution_count": 6,
   "metadata": {},
   "outputs": [
    {
     "data": {
      "text/plain": [
       "(100029, 16)"
      ]
     },
     "execution_count": 6,
     "metadata": {},
     "output_type": "execute_result"
    }
   ],
   "source": [
    "df.shape"
   ]
  },
  {
   "cell_type": "code",
   "execution_count": null,
   "metadata": {},
   "outputs": [],
   "source": []
  }
 ],
 "metadata": {
  "kernelspec": {
   "display_name": "Python 3",
   "language": "python",
   "name": "python3"
  },
  "language_info": {
   "codemirror_mode": {
    "name": "ipython",
    "version": 3
   },
   "file_extension": ".py",
   "mimetype": "text/x-python",
   "name": "python",
   "nbconvert_exporter": "python",
   "pygments_lexer": "ipython3",
   "version": "3.8.6"
  }
 },
 "nbformat": 4,
 "nbformat_minor": 4
}
